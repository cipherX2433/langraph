{
 "cells": [
  {
   "cell_type": "code",
   "id": "initial_id",
   "metadata": {
    "collapsed": true,
    "ExecuteTime": {
     "end_time": "2025-11-01T06:59:25.485725Z",
     "start_time": "2025-11-01T06:59:25.482394Z"
    }
   },
   "source": [
    "from dotenv import load_dotenv\n",
    "from langchain.chat_models import init_chat_model\n",
    "from langgraph.prebuilt import ToolNode, tools_condition\n",
    "\n",
    "load_dotenv()\n",
    "from typing_extensions import TypedDict, Annotated\n",
    "from langgraph.graph import StateGraph, START, END\n",
    "from langgraph.graph.message import add_messages\n",
    "from langchain_core.tools import tool\n",
    "from langgraph.prebuilt import ToolNode, tools_condition"
   ],
   "outputs": [],
   "execution_count": 13
  },
  {
   "metadata": {
    "ExecuteTime": {
     "end_time": "2025-11-01T06:59:26.806590Z",
     "start_time": "2025-11-01T06:59:26.802305Z"
    }
   },
   "cell_type": "code",
   "source": [
    "from dotenv import load_dotenv\n",
    "load_dotenv()"
   ],
   "id": "3f62630e06c89255",
   "outputs": [
    {
     "data": {
      "text/plain": [
       "True"
      ]
     },
     "execution_count": 14,
     "metadata": {},
     "output_type": "execute_result"
    }
   ],
   "execution_count": 14
  },
  {
   "metadata": {
    "ExecuteTime": {
     "end_time": "2025-11-01T06:59:28.402550Z",
     "start_time": "2025-11-01T06:59:28.399977Z"
    }
   },
   "cell_type": "code",
   "source": [
    "from langgraph.checkpoint.memory import MemorySaver\n",
    "\n",
    "memory = MemorySaver()"
   ],
   "id": "ca1207da5da611e4",
   "outputs": [],
   "execution_count": 15
  },
  {
   "metadata": {
    "ExecuteTime": {
     "end_time": "2025-11-01T06:59:29.779938Z",
     "start_time": "2025-11-01T06:59:29.777665Z"
    }
   },
   "cell_type": "code",
   "source": [
    "class State(TypedDict):\n",
    "    messages: Annotated[list, add_messages]"
   ],
   "id": "3a29289cefcb3ba1",
   "outputs": [],
   "execution_count": 16
  },
  {
   "metadata": {
    "ExecuteTime": {
     "end_time": "2025-11-01T06:59:31.206982Z",
     "start_time": "2025-11-01T06:59:31.200212Z"
    }
   },
   "cell_type": "code",
   "source": [
    "@tool\n",
    "def get_stock_price(symbol: str) -> float:\n",
    "    '''Return the current price of a stock given the stock symbol\n",
    "    :param symbol: stock symbol\n",
    "    :return: current price of the stock\n",
    "    '''\n",
    "    return {\n",
    "        \"MSFT\": 200.3,\n",
    "        \"AAPL\": 102.4,\n",
    "        \"GOOG\": 125.4,\n",
    "        \"IBM\": 105.3,\n",
    "    }.get(symbol, 0.0)\n",
    "\n",
    "tools = [get_stock_price]\n",
    "\n",
    "llm = init_chat_model(\"google_genai:gemini-2.0-flash\")\n",
    "\n",
    "llm_with_tools = llm.bind_tools(tools)"
   ],
   "id": "29513505326c26a9",
   "outputs": [],
   "execution_count": 17
  },
  {
   "metadata": {
    "ExecuteTime": {
     "end_time": "2025-11-01T07:00:42.021067Z",
     "start_time": "2025-11-01T07:00:42.015262Z"
    }
   },
   "cell_type": "code",
   "source": [
    "def chatbot(state: State) -> State:\n",
    "    print(\"📥 Incoming state keys:\", state.keys())\n",
    "    print(\"🧾 Messages before invoke:\", state[\"messages\"])\n",
    "\n",
    "    result = llm_with_tools.invoke(state[\"messages\"])\n",
    "\n",
    "    print(\"🧠 Model output:\", result)\n",
    "    return {\"messages\": state[\"messages\"] + [result]}\n",
    "\n",
    "\n",
    "builder = StateGraph(State)\n",
    "\n",
    "builder.add_node(\"chatbot\", chatbot)\n",
    "builder.add_node(\"tools\", ToolNode([get_stock_price]))\n",
    "\n",
    "builder.add_edge(START, \"chatbot\")\n",
    "builder.add_conditional_edges(\"chatbot\", tools_condition)\n",
    "builder.add_edge(\"tools\", \"chatbot\")  # returns control after tool execution\n",
    "builder.add_edge(\"chatbot\", END)\n",
    "\n",
    "\n",
    "graph = builder.compile(checkpointer=memory)"
   ],
   "id": "40d52b059b844afd",
   "outputs": [],
   "execution_count": 21
  },
  {
   "metadata": {
    "ExecuteTime": {
     "end_time": "2025-11-01T06:59:40.044078Z",
     "start_time": "2025-11-01T06:59:39.484135Z"
    }
   },
   "cell_type": "code",
   "source": [
    "from IPython.display import Image, display\n",
    "\n",
    "display(Image(graph.get_graph().draw_mermaid_png()))"
   ],
   "id": "f2e3f8910e184f72",
   "outputs": [
    {
     "data": {
      "image/png": "[encoded data removed]",
      "text/plain": [
       "<IPython.core.display.Image object>"
      ]
     },
     "metadata": {},
     "output_type": "display_data",
     "jetTransient": {
      "display_id": null
     }
    }
   ],
   "execution_count": 19
  },
  {
   "metadata": {
    "ExecuteTime": {
     "end_time": "2025-11-01T06:59:10.066655Z",
     "start_time": "2025-11-01T06:59:10.009990Z"
    }
   },
   "cell_type": "code",
   "source": [
    "from typing import Annotated, TypedDict\n",
    "from langchain_google_genai import ChatGoogleGenerativeAI\n",
    "from langchain_core.messages import HumanMessage\n",
    "from langchain.tools import tool\n",
    "from langgraph.graph import StateGraph, START, END\n",
    "from langgraph.graph.message import add_messages\n",
    "from langgraph.prebuilt import ToolNode, tools_condition\n",
    "from langgraph.checkpoint.memory import MemorySaver\n",
    "\n",
    "memory = MemorySaver()\n",
    "\n",
    "# --- Define State ---\n",
    "class State(TypedDict):\n",
    "    messages: Annotated[list, add_messages]\n",
    "\n",
    "# --- Tool ---\n",
    "@tool\n",
    "def get_stock_price(symbol: str) -> float:\n",
    "    \"\"\"Return stock price\"\"\"\n",
    "    return {\n",
    "        \"MSFT\": 200.3,\n",
    "        \"AAPL\": 102.4,\n",
    "        \"GOOG\": 125.4,\n",
    "        \"IBM\": 105.3,\n",
    "    }.get(symbol.upper(), 0)\n",
    "\n",
    "# --- LLM ---\n",
    "llm = ChatGoogleGenerativeAI(model=\"gemini-2.0-flash\")\n",
    "llm_with_tools = llm.bind_tools([get_stock_price])\n",
    "\n",
    "# --- Node ---\n",
    "def chatbot(state: State) -> State:\n",
    "    result = llm_with_tools.invoke(state[\"messages\"])\n",
    "    return {\"messages\": state[\"messages\"] + [result]}\n",
    "\n",
    "# --- Graph ---\n",
    "builder = StateGraph(State)\n",
    "builder.add_node(\"chatbot\", chatbot)\n",
    "builder.add_node(\"tools\", ToolNode([get_stock_price]))\n",
    "builder.add_edge(START, \"chatbot\")\n",
    "builder.add_conditional_edges(\"chatbot\", tools_condition)\n",
    "builder.add_edge(\"tools\", \"chatbot\")\n",
    "builder.add_edge(\"chatbot\", END)\n",
    "graph = builder.compile(checkpointer=memory)\n",
    "\n",
    "# --- Run ---\n",
    "state = graph.invoke({\n",
    "    \"messages\": [HumanMessage(content=\"What is the price of AAPL stock right now?\")]\n",
    "})\n",
    "\n",
    "# msg = \"I want to buy 20 AAPL stocks using current price. Then 15 MSFT. what will be total cost?\"\n",
    "\n",
    "# state = graph.invoke({\n",
    "#     \"messages\": [HumanMessage(content=msg)]\n",
    "# })\n",
    "print(state[\"messages\"][-1].content)\n"
   ],
   "id": "214febf491bf5482",
   "outputs": [
    {
     "ename": "ValueError",
     "evalue": "Checkpointer requires one or more of the following 'configurable' keys: thread_id, checkpoint_ns, checkpoint_id",
     "output_type": "error",
     "traceback": [
      "\u001B[31m---------------------------------------------------------------------------\u001B[39m",
      "\u001B[31mValueError\u001B[39m                                Traceback (most recent call last)",
      "\u001B[36mCell\u001B[39m\u001B[36m \u001B[39m\u001B[32mIn[12]\u001B[39m\u001B[32m, line 47\u001B[39m\n\u001B[32m     44\u001B[39m graph = builder.compile(checkpointer=memory)\n\u001B[32m     46\u001B[39m \u001B[38;5;66;03m# --- Run ---\u001B[39;00m\n\u001B[32m---> \u001B[39m\u001B[32m47\u001B[39m state = \u001B[43mgraph\u001B[49m\u001B[43m.\u001B[49m\u001B[43minvoke\u001B[49m\u001B[43m(\u001B[49m\u001B[43m{\u001B[49m\n\u001B[32m     48\u001B[39m \u001B[43m    \u001B[49m\u001B[33;43m\"\u001B[39;49m\u001B[33;43mmessages\u001B[39;49m\u001B[33;43m\"\u001B[39;49m\u001B[43m:\u001B[49m\u001B[43m \u001B[49m\u001B[43m[\u001B[49m\u001B[43mHumanMessage\u001B[49m\u001B[43m(\u001B[49m\u001B[43mcontent\u001B[49m\u001B[43m=\u001B[49m\u001B[33;43m\"\u001B[39;49m\u001B[33;43mWhat is the price of AAPL stock right now?\u001B[39;49m\u001B[33;43m\"\u001B[39;49m\u001B[43m)\u001B[49m\u001B[43m]\u001B[49m\n\u001B[32m     49\u001B[39m \u001B[43m}\u001B[49m\u001B[43m)\u001B[49m\n\u001B[32m     51\u001B[39m \u001B[38;5;66;03m# msg = \"I want to buy 20 AAPL stocks using current price. Then 15 MSFT. what will be total cost?\"\u001B[39;00m\n\u001B[32m     52\u001B[39m \n\u001B[32m     53\u001B[39m \u001B[38;5;66;03m# state = graph.invoke({\u001B[39;00m\n\u001B[32m     54\u001B[39m \u001B[38;5;66;03m#     \"messages\": [HumanMessage(content=msg)]\u001B[39;00m\n\u001B[32m     55\u001B[39m \u001B[38;5;66;03m# })\u001B[39;00m\n\u001B[32m     56\u001B[39m \u001B[38;5;28mprint\u001B[39m(state[\u001B[33m\"\u001B[39m\u001B[33mmessages\u001B[39m\u001B[33m\"\u001B[39m][-\u001B[32m1\u001B[39m].content)\n",
      "\u001B[36mFile \u001B[39m\u001B[32m~/PycharmProjects/langraph/.venv/lib/python3.13/site-packages/langgraph/pregel/main.py:3094\u001B[39m, in \u001B[36mPregel.invoke\u001B[39m\u001B[34m(self, input, config, context, stream_mode, print_mode, output_keys, interrupt_before, interrupt_after, durability, **kwargs)\u001B[39m\n\u001B[32m   3091\u001B[39m chunks: \u001B[38;5;28mlist\u001B[39m[\u001B[38;5;28mdict\u001B[39m[\u001B[38;5;28mstr\u001B[39m, Any] | Any] = []\n\u001B[32m   3092\u001B[39m interrupts: \u001B[38;5;28mlist\u001B[39m[Interrupt] = []\n\u001B[32m-> \u001B[39m\u001B[32m3094\u001B[39m \u001B[43m\u001B[49m\u001B[38;5;28;43;01mfor\u001B[39;49;00m\u001B[43m \u001B[49m\u001B[43mchunk\u001B[49m\u001B[43m \u001B[49m\u001B[38;5;129;43;01min\u001B[39;49;00m\u001B[43m \u001B[49m\u001B[38;5;28;43mself\u001B[39;49m\u001B[43m.\u001B[49m\u001B[43mstream\u001B[49m\u001B[43m(\u001B[49m\n\u001B[32m   3095\u001B[39m \u001B[43m    \u001B[49m\u001B[38;5;28;43minput\u001B[39;49m\u001B[43m,\u001B[49m\n\u001B[32m   3096\u001B[39m \u001B[43m    \u001B[49m\u001B[43mconfig\u001B[49m\u001B[43m,\u001B[49m\n\u001B[32m   3097\u001B[39m \u001B[43m    \u001B[49m\u001B[43mcontext\u001B[49m\u001B[43m=\u001B[49m\u001B[43mcontext\u001B[49m\u001B[43m,\u001B[49m\n\u001B[32m   3098\u001B[39m \u001B[43m    \u001B[49m\u001B[43mstream_mode\u001B[49m\u001B[43m=\u001B[49m\u001B[43m[\u001B[49m\u001B[33;43m\"\u001B[39;49m\u001B[33;43mupdates\u001B[39;49m\u001B[33;43m\"\u001B[39;49m\u001B[43m,\u001B[49m\u001B[43m \u001B[49m\u001B[33;43m\"\u001B[39;49m\u001B[33;43mvalues\u001B[39;49m\u001B[33;43m\"\u001B[39;49m\u001B[43m]\u001B[49m\n\u001B[32m   3099\u001B[39m \u001B[43m    \u001B[49m\u001B[38;5;28;43;01mif\u001B[39;49;00m\u001B[43m \u001B[49m\u001B[43mstream_mode\u001B[49m\u001B[43m \u001B[49m\u001B[43m==\u001B[49m\u001B[43m \u001B[49m\u001B[33;43m\"\u001B[39;49m\u001B[33;43mvalues\u001B[39;49m\u001B[33;43m\"\u001B[39;49m\n\u001B[32m   3100\u001B[39m \u001B[43m    \u001B[49m\u001B[38;5;28;43;01melse\u001B[39;49;00m\u001B[43m \u001B[49m\u001B[43mstream_mode\u001B[49m\u001B[43m,\u001B[49m\n\u001B[32m   3101\u001B[39m \u001B[43m    \u001B[49m\u001B[43mprint_mode\u001B[49m\u001B[43m=\u001B[49m\u001B[43mprint_mode\u001B[49m\u001B[43m,\u001B[49m\n\u001B[32m   3102\u001B[39m \u001B[43m    \u001B[49m\u001B[43moutput_keys\u001B[49m\u001B[43m=\u001B[49m\u001B[43moutput_keys\u001B[49m\u001B[43m,\u001B[49m\n\u001B[32m   3103\u001B[39m \u001B[43m    \u001B[49m\u001B[43minterrupt_before\u001B[49m\u001B[43m=\u001B[49m\u001B[43minterrupt_before\u001B[49m\u001B[43m,\u001B[49m\n\u001B[32m   3104\u001B[39m \u001B[43m    \u001B[49m\u001B[43minterrupt_after\u001B[49m\u001B[43m=\u001B[49m\u001B[43minterrupt_after\u001B[49m\u001B[43m,\u001B[49m\n\u001B[32m   3105\u001B[39m \u001B[43m    \u001B[49m\u001B[43mdurability\u001B[49m\u001B[43m=\u001B[49m\u001B[43mdurability\u001B[49m\u001B[43m,\u001B[49m\n\u001B[32m   3106\u001B[39m \u001B[43m    \u001B[49m\u001B[43m*\u001B[49m\u001B[43m*\u001B[49m\u001B[43mkwargs\u001B[49m\u001B[43m,\u001B[49m\n\u001B[32m   3107\u001B[39m \u001B[43m\u001B[49m\u001B[43m)\u001B[49m\u001B[43m:\u001B[49m\n\u001B[32m   3108\u001B[39m \u001B[43m    \u001B[49m\u001B[38;5;28;43;01mif\u001B[39;49;00m\u001B[43m \u001B[49m\u001B[43mstream_mode\u001B[49m\u001B[43m \u001B[49m\u001B[43m==\u001B[49m\u001B[43m \u001B[49m\u001B[33;43m\"\u001B[39;49m\u001B[33;43mvalues\u001B[39;49m\u001B[33;43m\"\u001B[39;49m\u001B[43m:\u001B[49m\n\u001B[32m   3109\u001B[39m \u001B[43m        \u001B[49m\u001B[38;5;28;43;01mif\u001B[39;49;00m\u001B[43m \u001B[49m\u001B[38;5;28;43mlen\u001B[39;49m\u001B[43m(\u001B[49m\u001B[43mchunk\u001B[49m\u001B[43m)\u001B[49m\u001B[43m \u001B[49m\u001B[43m==\u001B[49m\u001B[43m \u001B[49m\u001B[32;43m2\u001B[39;49m\u001B[43m:\u001B[49m\n",
      "\u001B[36mFile \u001B[39m\u001B[32m~/PycharmProjects/langraph/.venv/lib/python3.13/site-packages/langgraph/pregel/main.py:2551\u001B[39m, in \u001B[36mPregel.stream\u001B[39m\u001B[34m(self, input, config, context, stream_mode, print_mode, output_keys, interrupt_before, interrupt_after, durability, subgraphs, debug, **kwargs)\u001B[39m\n\u001B[32m   2534\u001B[39m run_manager = callback_manager.on_chain_start(\n\u001B[32m   2535\u001B[39m     \u001B[38;5;28;01mNone\u001B[39;00m,\n\u001B[32m   2536\u001B[39m     \u001B[38;5;28minput\u001B[39m,\n\u001B[32m   2537\u001B[39m     name=config.get(\u001B[33m\"\u001B[39m\u001B[33mrun_name\u001B[39m\u001B[33m\"\u001B[39m, \u001B[38;5;28mself\u001B[39m.get_name()),\n\u001B[32m   2538\u001B[39m     run_id=config.get(\u001B[33m\"\u001B[39m\u001B[33mrun_id\u001B[39m\u001B[33m\"\u001B[39m),\n\u001B[32m   2539\u001B[39m )\n\u001B[32m   2540\u001B[39m \u001B[38;5;28;01mtry\u001B[39;00m:\n\u001B[32m   2541\u001B[39m     \u001B[38;5;66;03m# assign defaults\u001B[39;00m\n\u001B[32m   2542\u001B[39m     (\n\u001B[32m   2543\u001B[39m         stream_modes,\n\u001B[32m   2544\u001B[39m         output_keys,\n\u001B[32m   2545\u001B[39m         interrupt_before_,\n\u001B[32m   2546\u001B[39m         interrupt_after_,\n\u001B[32m   2547\u001B[39m         checkpointer,\n\u001B[32m   2548\u001B[39m         store,\n\u001B[32m   2549\u001B[39m         cache,\n\u001B[32m   2550\u001B[39m         durability_,\n\u001B[32m-> \u001B[39m\u001B[32m2551\u001B[39m     ) = \u001B[38;5;28;43mself\u001B[39;49m\u001B[43m.\u001B[49m\u001B[43m_defaults\u001B[49m\u001B[43m(\u001B[49m\n\u001B[32m   2552\u001B[39m \u001B[43m        \u001B[49m\u001B[43mconfig\u001B[49m\u001B[43m,\u001B[49m\n\u001B[32m   2553\u001B[39m \u001B[43m        \u001B[49m\u001B[43mstream_mode\u001B[49m\u001B[43m=\u001B[49m\u001B[43mstream_mode\u001B[49m\u001B[43m,\u001B[49m\n\u001B[32m   2554\u001B[39m \u001B[43m        \u001B[49m\u001B[43mprint_mode\u001B[49m\u001B[43m=\u001B[49m\u001B[43mprint_mode\u001B[49m\u001B[43m,\u001B[49m\n\u001B[32m   2555\u001B[39m \u001B[43m        \u001B[49m\u001B[43moutput_keys\u001B[49m\u001B[43m=\u001B[49m\u001B[43moutput_keys\u001B[49m\u001B[43m,\u001B[49m\n\u001B[32m   2556\u001B[39m \u001B[43m        \u001B[49m\u001B[43minterrupt_before\u001B[49m\u001B[43m=\u001B[49m\u001B[43minterrupt_before\u001B[49m\u001B[43m,\u001B[49m\n\u001B[32m   2557\u001B[39m \u001B[43m        \u001B[49m\u001B[43minterrupt_after\u001B[49m\u001B[43m=\u001B[49m\u001B[43minterrupt_after\u001B[49m\u001B[43m,\u001B[49m\n\u001B[32m   2558\u001B[39m \u001B[43m        \u001B[49m\u001B[43mdurability\u001B[49m\u001B[43m=\u001B[49m\u001B[43mdurability\u001B[49m\u001B[43m,\u001B[49m\n\u001B[32m   2559\u001B[39m \u001B[43m    \u001B[49m\u001B[43m)\u001B[49m\n\u001B[32m   2560\u001B[39m     \u001B[38;5;28;01mif\u001B[39;00m checkpointer \u001B[38;5;129;01mis\u001B[39;00m \u001B[38;5;28;01mNone\u001B[39;00m \u001B[38;5;129;01mand\u001B[39;00m durability \u001B[38;5;129;01mis\u001B[39;00m \u001B[38;5;129;01mnot\u001B[39;00m \u001B[38;5;28;01mNone\u001B[39;00m:\n\u001B[32m   2561\u001B[39m         warnings.warn(\n\u001B[32m   2562\u001B[39m             \u001B[33m\"\u001B[39m\u001B[33m`durability` has no effect when no checkpointer is present.\u001B[39m\u001B[33m\"\u001B[39m,\n\u001B[32m   2563\u001B[39m         )\n",
      "\u001B[36mFile \u001B[39m\u001B[32m~/PycharmProjects/langraph/.venv/lib/python3.13/site-packages/langgraph/pregel/main.py:2421\u001B[39m, in \u001B[36mPregel._defaults\u001B[39m\u001B[34m(self, config, stream_mode, print_mode, output_keys, interrupt_before, interrupt_after, durability)\u001B[39m\n\u001B[32m   2419\u001B[39m     checkpointer = \u001B[38;5;28mself\u001B[39m.checkpointer\n\u001B[32m   2420\u001B[39m \u001B[38;5;28;01mif\u001B[39;00m checkpointer \u001B[38;5;129;01mand\u001B[39;00m \u001B[38;5;129;01mnot\u001B[39;00m config.get(CONF):\n\u001B[32m-> \u001B[39m\u001B[32m2421\u001B[39m     \u001B[38;5;28;01mraise\u001B[39;00m \u001B[38;5;167;01mValueError\u001B[39;00m(\n\u001B[32m   2422\u001B[39m         \u001B[33m\"\u001B[39m\u001B[33mCheckpointer requires one or more of the following \u001B[39m\u001B[33m'\u001B[39m\u001B[33mconfigurable\u001B[39m\u001B[33m'\u001B[39m\u001B[33m \u001B[39m\u001B[33m\"\u001B[39m\n\u001B[32m   2423\u001B[39m         \u001B[33m\"\u001B[39m\u001B[33mkeys: thread_id, checkpoint_ns, checkpoint_id\u001B[39m\u001B[33m\"\u001B[39m\n\u001B[32m   2424\u001B[39m     )\n\u001B[32m   2425\u001B[39m \u001B[38;5;28;01mif\u001B[39;00m CONFIG_KEY_RUNTIME \u001B[38;5;129;01min\u001B[39;00m config.get(CONF, {}):\n\u001B[32m   2426\u001B[39m     store: BaseStore | \u001B[38;5;28;01mNone\u001B[39;00m = config[CONF][CONFIG_KEY_RUNTIME].store\n",
      "\u001B[31mValueError\u001B[39m: Checkpointer requires one or more of the following 'configurable' keys: thread_id, checkpoint_ns, checkpoint_id"
     ]
    }
   ],
   "execution_count": 12
  },
  {
   "metadata": {
    "ExecuteTime": {
     "end_time": "2025-11-01T06:59:46.965043Z",
     "start_time": "2025-11-01T06:59:44.372116Z"
    }
   },
   "cell_type": "code",
   "source": [
    "msg = \"I want to buy 20 AAPL stocks using current price. Then 15 MSFT. what will be total cost?\"\n",
    "\n",
    "state = graph.invoke({\n",
    "    \"messages\": [HumanMessage(content=msg)]\n",
    "})\n",
    "print(state[\"messages\"][-1].content)"
   ],
   "id": "2523f3afe534736f",
   "outputs": [
    {
     "name": "stdout",
     "output_type": "stream",
     "text": [
      "📥 Incoming state keys: dict_keys(['messages'])\n",
      "🧾 Messages before invoke: [HumanMessage(content='I want to buy 20 AAPL stocks using current price. Then 15 MSFT. what will be total cost?', additional_kwargs={}, response_metadata={}, id='1355ed31-94d0-4391-ae91-b85ff586881a')]\n",
      "🧠 Model output: content='' additional_kwargs={'function_call': {'name': 'get_stock_price', 'arguments': '{\"symbol\": \"MSFT\"}'}} response_metadata={'prompt_feedback': {'block_reason': 0, 'safety_ratings': []}, 'finish_reason': 'STOP', 'model_name': 'gemini-2.0-flash', 'safety_ratings': [], 'grounding_metadata': {}, 'model_provider': 'google_genai'} id='lc_run--cb6a6065-8f3d-4018-9c8c-739516db77cb-0' tool_calls=[{'name': 'get_stock_price', 'args': {'symbol': 'AAPL'}, 'id': '46e3a739-2ddf-466d-adab-c13a3329de5a', 'type': 'tool_call'}, {'name': 'get_stock_price', 'args': {'symbol': 'MSFT'}, 'id': 'cda9c39e-e657-40fe-aa79-189960051480', 'type': 'tool_call'}] usage_metadata={'input_tokens': 63, 'output_tokens': 16, 'total_tokens': 79, 'input_token_details': {'cache_read': 0}}\n",
      "📥 Incoming state keys: dict_keys(['messages'])\n",
      "🧾 Messages before invoke: [HumanMessage(content='I want to buy 20 AAPL stocks using current price. Then 15 MSFT. what will be total cost?', additional_kwargs={}, response_metadata={}, id='1355ed31-94d0-4391-ae91-b85ff586881a'), AIMessage(content='', additional_kwargs={'function_call': {'name': 'get_stock_price', 'arguments': '{\"symbol\": \"MSFT\"}'}}, response_metadata={'prompt_feedback': {'block_reason': 0, 'safety_ratings': []}, 'finish_reason': 'STOP', 'model_name': 'gemini-2.0-flash', 'safety_ratings': [], 'grounding_metadata': {}, 'model_provider': 'google_genai'}, id='lc_run--cb6a6065-8f3d-4018-9c8c-739516db77cb-0', tool_calls=[{'name': 'get_stock_price', 'args': {'symbol': 'AAPL'}, 'id': '46e3a739-2ddf-466d-adab-c13a3329de5a', 'type': 'tool_call'}, {'name': 'get_stock_price', 'args': {'symbol': 'MSFT'}, 'id': 'cda9c39e-e657-40fe-aa79-189960051480', 'type': 'tool_call'}], usage_metadata={'input_tokens': 63, 'output_tokens': 16, 'total_tokens': 79, 'input_token_details': {'cache_read': 0}}), ToolMessage(content='102.4', name='get_stock_price', id='4b101a6f-c30b-4958-9560-f62b1d68f84b', tool_call_id='46e3a739-2ddf-466d-adab-c13a3329de5a'), ToolMessage(content='200.3', name='get_stock_price', id='524297b6-dcff-4f36-bafc-f19c3d90d143', tool_call_id='cda9c39e-e657-40fe-aa79-189960051480')]\n",
      "🧠 Model output: content='The current price of AAPL is $102.4 and MSFT is $200.3.\\nThe total cost for 20 AAPL stocks is 20 * $102.4 = $2048\\nThe total cost for 15 MSFT stocks is 15 * $200.3 = $3004.5\\nTherefore, the total cost for both is $2048 + $3004.5 = $5052.5' additional_kwargs={} response_metadata={'prompt_feedback': {'block_reason': 0, 'safety_ratings': []}, 'finish_reason': 'STOP', 'model_name': 'gemini-2.0-flash', 'safety_ratings': [], 'grounding_metadata': {}, 'model_provider': 'google_genai'} id='lc_run--e4df9d12-1daf-41c5-8113-23df6e533bc1-0' usage_metadata={'input_tokens': 93, 'output_tokens': 113, 'total_tokens': 206, 'input_token_details': {'cache_read': 0}}\n",
      "The current price of AAPL is $102.4 and MSFT is $200.3.\n",
      "The total cost for 20 AAPL stocks is 20 * $102.4 = $2048\n",
      "The total cost for 15 MSFT stocks is 15 * $200.3 = $3004.5\n",
      "Therefore, the total cost for both is $2048 + $3004.5 = $5052.5\n"
     ]
    }
   ],
   "execution_count": 20
  },
  {
   "metadata": {
    "ExecuteTime": {
     "end_time": "2025-11-01T07:02:23.213733Z",
     "start_time": "2025-11-01T07:02:20.549538Z"
    }
   },
   "cell_type": "code",
   "source": [
    "config = { 'configurable': { 'thread_id': '1'}}\n",
    "msg = \"I want to buy 20 AAPL stocks using current price. Then 15 MSFT. what will be total cost?\"\n",
    "\n",
    "state = graph.invoke({\n",
    "    \"messages\": [HumanMessage(content=msg)]\n",
    "}, config=config)\n",
    "print(state[\"messages\"][-1].content)"
   ],
   "id": "a1c081de56e9f7c8",
   "outputs": [
    {
     "name": "stdout",
     "output_type": "stream",
     "text": [
      "📥 Incoming state keys: dict_keys(['messages'])\n",
      "🧾 Messages before invoke: [HumanMessage(content='I want to buy 20 AAPL stocks using current price. Then 15 MSFT. what will be total cost?', additional_kwargs={}, response_metadata={}, id='8b37765d-4d23-4488-a3d1-ab5154946a64')]\n",
      "🧠 Model output: content='' additional_kwargs={'function_call': {'name': 'get_stock_price', 'arguments': '{\"symbol\": \"MSFT\"}'}} response_metadata={'prompt_feedback': {'block_reason': 0, 'safety_ratings': []}, 'finish_reason': 'STOP', 'model_name': 'gemini-2.0-flash', 'safety_ratings': [], 'grounding_metadata': {}, 'model_provider': 'google_genai'} id='lc_run--847ec767-028a-4a9e-9a14-fee0c2ba78fb-0' tool_calls=[{'name': 'get_stock_price', 'args': {'symbol': 'AAPL'}, 'id': '563da35f-5cb9-4d82-a95b-c53fad67d0ae', 'type': 'tool_call'}, {'name': 'get_stock_price', 'args': {'symbol': 'MSFT'}, 'id': 'f44bfac7-82e3-4539-b453-bf668199c123', 'type': 'tool_call'}] usage_metadata={'input_tokens': 63, 'output_tokens': 16, 'total_tokens': 79, 'input_token_details': {'cache_read': 0}}\n",
      "📥 Incoming state keys: dict_keys(['messages'])\n",
      "🧾 Messages before invoke: [HumanMessage(content='I want to buy 20 AAPL stocks using current price. Then 15 MSFT. what will be total cost?', additional_kwargs={}, response_metadata={}, id='8b37765d-4d23-4488-a3d1-ab5154946a64'), AIMessage(content='', additional_kwargs={'function_call': {'name': 'get_stock_price', 'arguments': '{\"symbol\": \"MSFT\"}'}}, response_metadata={'prompt_feedback': {'block_reason': 0, 'safety_ratings': []}, 'finish_reason': 'STOP', 'model_name': 'gemini-2.0-flash', 'safety_ratings': [], 'grounding_metadata': {}, 'model_provider': 'google_genai'}, id='lc_run--847ec767-028a-4a9e-9a14-fee0c2ba78fb-0', tool_calls=[{'name': 'get_stock_price', 'args': {'symbol': 'AAPL'}, 'id': '563da35f-5cb9-4d82-a95b-c53fad67d0ae', 'type': 'tool_call'}, {'name': 'get_stock_price', 'args': {'symbol': 'MSFT'}, 'id': 'f44bfac7-82e3-4539-b453-bf668199c123', 'type': 'tool_call'}], usage_metadata={'input_tokens': 63, 'output_tokens': 16, 'total_tokens': 79, 'input_token_details': {'cache_read': 0}}), ToolMessage(content='102.4', name='get_stock_price', id='7c36cb0e-e022-4048-8638-7ea3c396742f', tool_call_id='563da35f-5cb9-4d82-a95b-c53fad67d0ae'), ToolMessage(content='200.3', name='get_stock_price', id='51bc4f73-ec54-4fc6-bb08-45eb9f55051a', tool_call_id='f44bfac7-82e3-4539-b453-bf668199c123')]\n",
      "🧠 Model output: content='The current price for AAPL is $102.4 and for MSFT is $200.3.\\nBuying 20 AAPL stocks would cost 20 * $102.4 = $2048\\nBuying 15 MSFT stocks would cost 15 * $200.3 = $3004.5\\nThe total cost would be $2048 + $3004.5 = $5052.5' additional_kwargs={} response_metadata={'prompt_feedback': {'block_reason': 0, 'safety_ratings': []}, 'finish_reason': 'STOP', 'model_name': 'gemini-2.0-flash', 'safety_ratings': [], 'grounding_metadata': {}, 'model_provider': 'google_genai'} id='lc_run--255400de-9b0f-463f-8d89-cf88f65f73f6-0' usage_metadata={'input_tokens': 93, 'output_tokens': 107, 'total_tokens': 200, 'input_token_details': {'cache_read': 0}}\n",
      "The current price for AAPL is $102.4 and for MSFT is $200.3.\n",
      "Buying 20 AAPL stocks would cost 20 * $102.4 = $2048\n",
      "Buying 15 MSFT stocks would cost 15 * $200.3 = $3004.5\n",
      "The total cost would be $2048 + $3004.5 = $5052.5\n"
     ]
    }
   ],
   "execution_count": 23
  },
  {
   "metadata": {
    "ExecuteTime": {
     "end_time": "2025-11-01T07:04:11.467533Z",
     "start_time": "2025-11-01T07:04:08.592960Z"
    }
   },
   "cell_type": "code",
   "source": [
    "msg = \"Using the current price tell me the total price of 10 GOOG stocks and add it to previous total\"\n",
    "\n",
    "state = graph.invoke({\n",
    "    \"messages\": [HumanMessage(content=msg)]\n",
    "}, config=config)\n",
    "print(state[\"messages\"][-1].content)"
   ],
   "id": "360885aa58851e24",
   "outputs": [
    {
     "name": "stdout",
     "output_type": "stream",
     "text": [
      "📥 Incoming state keys: dict_keys(['messages'])\n",
      "🧾 Messages before invoke: [HumanMessage(content='I want to buy 20 AAPL stocks using current price. Then 15 MSFT. what will be total cost?', additional_kwargs={}, response_metadata={}, id='8b37765d-4d23-4488-a3d1-ab5154946a64'), AIMessage(content='', additional_kwargs={'function_call': {'name': 'get_stock_price', 'arguments': '{\"symbol\": \"MSFT\"}'}}, response_metadata={'prompt_feedback': {'block_reason': 0, 'safety_ratings': []}, 'finish_reason': 'STOP', 'model_name': 'gemini-2.0-flash', 'safety_ratings': [], 'grounding_metadata': {}, 'model_provider': 'google_genai'}, id='lc_run--847ec767-028a-4a9e-9a14-fee0c2ba78fb-0', tool_calls=[{'name': 'get_stock_price', 'args': {'symbol': 'AAPL'}, 'id': '563da35f-5cb9-4d82-a95b-c53fad67d0ae', 'type': 'tool_call'}, {'name': 'get_stock_price', 'args': {'symbol': 'MSFT'}, 'id': 'f44bfac7-82e3-4539-b453-bf668199c123', 'type': 'tool_call'}], usage_metadata={'input_tokens': 63, 'output_tokens': 16, 'total_tokens': 79, 'input_token_details': {'cache_read': 0}}), ToolMessage(content='102.4', name='get_stock_price', id='7c36cb0e-e022-4048-8638-7ea3c396742f', tool_call_id='563da35f-5cb9-4d82-a95b-c53fad67d0ae'), ToolMessage(content='200.3', name='get_stock_price', id='51bc4f73-ec54-4fc6-bb08-45eb9f55051a', tool_call_id='f44bfac7-82e3-4539-b453-bf668199c123'), AIMessage(content='The current price for AAPL is $102.4 and for MSFT is $200.3.\\nBuying 20 AAPL stocks would cost 20 * $102.4 = $2048\\nBuying 15 MSFT stocks would cost 15 * $200.3 = $3004.5\\nThe total cost would be $2048 + $3004.5 = $5052.5', additional_kwargs={}, response_metadata={'prompt_feedback': {'block_reason': 0, 'safety_ratings': []}, 'finish_reason': 'STOP', 'model_name': 'gemini-2.0-flash', 'safety_ratings': [], 'grounding_metadata': {}, 'model_provider': 'google_genai'}, id='lc_run--255400de-9b0f-463f-8d89-cf88f65f73f6-0', usage_metadata={'input_tokens': 93, 'output_tokens': 107, 'total_tokens': 200, 'input_token_details': {'cache_read': 0}}), HumanMessage(content='Using the current price tell me the total price of 10 GOOG stocks and add it to previous total', additional_kwargs={}, response_metadata={}, id='9ee29b75-a617-49ac-9eae-3673b41dd114')]\n",
      "🧠 Model output: content='' additional_kwargs={'function_call': {'name': 'get_stock_price', 'arguments': '{\"symbol\": \"GOOG\"}'}} response_metadata={'prompt_feedback': {'block_reason': 0, 'safety_ratings': []}, 'finish_reason': 'STOP', 'model_name': 'gemini-2.0-flash', 'safety_ratings': [], 'grounding_metadata': {}, 'model_provider': 'google_genai'} id='lc_run--4a856daf-76ad-47a0-8b43-41fa5fe9fcbc-0' tool_calls=[{'name': 'get_stock_price', 'args': {'symbol': 'GOOG'}, 'id': '572b5519-efb8-4a01-9e4f-de2226811e01', 'type': 'tool_call'}] usage_metadata={'input_tokens': 221, 'output_tokens': 8, 'total_tokens': 229, 'input_token_details': {'cache_read': 0}}\n",
      "📥 Incoming state keys: dict_keys(['messages'])\n",
      "🧾 Messages before invoke: [HumanMessage(content='I want to buy 20 AAPL stocks using current price. Then 15 MSFT. what will be total cost?', additional_kwargs={}, response_metadata={}, id='8b37765d-4d23-4488-a3d1-ab5154946a64'), AIMessage(content='', additional_kwargs={'function_call': {'name': 'get_stock_price', 'arguments': '{\"symbol\": \"MSFT\"}'}}, response_metadata={'prompt_feedback': {'block_reason': 0, 'safety_ratings': []}, 'finish_reason': 'STOP', 'model_name': 'gemini-2.0-flash', 'safety_ratings': [], 'grounding_metadata': {}, 'model_provider': 'google_genai'}, id='lc_run--847ec767-028a-4a9e-9a14-fee0c2ba78fb-0', tool_calls=[{'name': 'get_stock_price', 'args': {'symbol': 'AAPL'}, 'id': '563da35f-5cb9-4d82-a95b-c53fad67d0ae', 'type': 'tool_call'}, {'name': 'get_stock_price', 'args': {'symbol': 'MSFT'}, 'id': 'f44bfac7-82e3-4539-b453-bf668199c123', 'type': 'tool_call'}], usage_metadata={'input_tokens': 63, 'output_tokens': 16, 'total_tokens': 79, 'input_token_details': {'cache_read': 0}}), ToolMessage(content='102.4', name='get_stock_price', id='7c36cb0e-e022-4048-8638-7ea3c396742f', tool_call_id='563da35f-5cb9-4d82-a95b-c53fad67d0ae'), ToolMessage(content='200.3', name='get_stock_price', id='51bc4f73-ec54-4fc6-bb08-45eb9f55051a', tool_call_id='f44bfac7-82e3-4539-b453-bf668199c123'), AIMessage(content='The current price for AAPL is $102.4 and for MSFT is $200.3.\\nBuying 20 AAPL stocks would cost 20 * $102.4 = $2048\\nBuying 15 MSFT stocks would cost 15 * $200.3 = $3004.5\\nThe total cost would be $2048 + $3004.5 = $5052.5', additional_kwargs={}, response_metadata={'prompt_feedback': {'block_reason': 0, 'safety_ratings': []}, 'finish_reason': 'STOP', 'model_name': 'gemini-2.0-flash', 'safety_ratings': [], 'grounding_metadata': {}, 'model_provider': 'google_genai'}, id='lc_run--255400de-9b0f-463f-8d89-cf88f65f73f6-0', usage_metadata={'input_tokens': 93, 'output_tokens': 107, 'total_tokens': 200, 'input_token_details': {'cache_read': 0}}), HumanMessage(content='Using the current price tell me the total price of 10 GOOG stocks and add it to previous total', additional_kwargs={}, response_metadata={}, id='9ee29b75-a617-49ac-9eae-3673b41dd114'), AIMessage(content='', additional_kwargs={'function_call': {'name': 'get_stock_price', 'arguments': '{\"symbol\": \"GOOG\"}'}}, response_metadata={'prompt_feedback': {'block_reason': 0, 'safety_ratings': []}, 'finish_reason': 'STOP', 'model_name': 'gemini-2.0-flash', 'safety_ratings': [], 'grounding_metadata': {}, 'model_provider': 'google_genai'}, id='lc_run--4a856daf-76ad-47a0-8b43-41fa5fe9fcbc-0', tool_calls=[{'name': 'get_stock_price', 'args': {'symbol': 'GOOG'}, 'id': '572b5519-efb8-4a01-9e4f-de2226811e01', 'type': 'tool_call'}], usage_metadata={'input_tokens': 221, 'output_tokens': 8, 'total_tokens': 229, 'input_token_details': {'cache_read': 0}}), ToolMessage(content='125.4', name='get_stock_price', id='841089d5-448a-4b26-aad2-14b1a8b714b2', tool_call_id='572b5519-efb8-4a01-9e4f-de2226811e01')]\n",
      "🧠 Model output: content='OK. The current price of GOOG is $125.4.\\n\\nThe cost of 10 GOOG stocks is 10 * $125.4 = $1254.\\nAdding that to the previous total of $5052.5, the new total is $5052.5 + $1254 = $6306.5.' additional_kwargs={} response_metadata={'prompt_feedback': {'block_reason': 0, 'safety_ratings': []}, 'finish_reason': 'STOP', 'model_name': 'gemini-2.0-flash', 'safety_ratings': [], 'grounding_metadata': {}, 'model_provider': 'google_genai'} id='lc_run--e6d1b83e-0505-4787-b62d-8ea58a896bfe-0' usage_metadata={'input_tokens': 236, 'output_tokens': 87, 'total_tokens': 323, 'input_token_details': {'cache_read': 0}}\n",
      "OK. The current price of GOOG is $125.4.\n",
      "\n",
      "The cost of 10 GOOG stocks is 10 * $125.4 = $1254.\n",
      "Adding that to the previous total of $5052.5, the new total is $5052.5 + $1254 = $6306.5.\n"
     ]
    }
   ],
   "execution_count": 24
  }
 ],
 "metadata": {
  "kernelspec": {
   "display_name": "Python 3",
   "language": "python",
   "name": "python3"
  },
  "language_info": {
   "codemirror_mode": {
    "name": "ipython",
    "version": 2
   },
   "file_extension": ".py",
   "mimetype": "text/x-python",
   "name": "python",
   "nbconvert_exporter": "python",
   "pygments_lexer": "ipython2",
   "version": "2.7.6"
  }
 },
 "nbformat": 4,
 "nbformat_minor": 5
}
