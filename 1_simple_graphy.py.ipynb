{
 "cells": [
  {
   "cell_type": "code",
   "id": "initial_id",
   "metadata": {
    "collapsed": true,
    "ExecuteTime": {
     "end_time": "2025-10-30T17:54:07.901593Z",
     "start_time": "2025-10-30T17:54:07.899611Z"
    }
   },
   "source": [
    "from typing import TypedDict\n",
    "\n",
    "class PortfolioState(TypedDict):\n",
    "    amount_usd: float\n",
    "    total_usd: float\n",
    "    total_inr: float"
   ],
   "outputs": [],
   "execution_count": 1
  },
  {
   "metadata": {
    "ExecuteTime": {
     "end_time": "2025-10-30T17:56:18.978903Z",
     "start_time": "2025-10-30T17:56:18.976143Z"
    }
   },
   "cell_type": "code",
   "source": [
    "def calc_total(state: PortfolioState) -> PortfolioState:\n",
    "    state[\"total_usd\"] = state[\"amount_usd\"] * 1.08\n",
    "    return state\n",
    "\n",
    "def convert_to_inr(state: PortfolioState) -> PortfolioState:\n",
    "    state['total_inr'] = state['total_usd'] * 85\n",
    "    return state"
   ],
   "id": "5a27ea4c24068bc4",
   "outputs": [],
   "execution_count": 4
  },
  {
   "metadata": {
    "ExecuteTime": {
     "end_time": "2025-10-30T17:59:30.655791Z",
     "start_time": "2025-10-30T17:59:29.701299Z"
    }
   },
   "cell_type": "code",
   "source": [
    "from langgraph.graph import StateGraph, START, END\n",
    "\n",
    "builder = StateGraph(PortfolioState)\n",
    "\n",
    "builder.add_node(\"calc_total_node\", calc_total)\n",
    "builder.add_node(\"convert_to_inr_node\", convert_to_inr)\n",
    "\n",
    "builder.add_edge(START, \"calc_total_node\")\n",
    "builder.add_edge(\"calc_total_node\", \"convert_to_inr_node\")\n",
    "builder.add_edge(\"calc_total_node\", END)\n",
    "\n",
    "graph = builder.compile()"
   ],
   "id": "75de707bce0a8485",
   "outputs": [],
   "execution_count": 5
  },
  {
   "metadata": {
    "ExecuteTime": {
     "end_time": "2025-10-30T18:00:34.514536Z",
     "start_time": "2025-10-30T18:00:33.575572Z"
    }
   },
   "cell_type": "code",
   "source": [
    "from IPython.display import Image, display\n",
    "\n",
    "display(Image(graph.get_graph().draw_mermaid_png()))"
   ],
   "id": "daba67f80a69715a",
   "outputs": [
    {
     "data": {
      "image/png": "[encoded data removed]",
      "text/plain": [
       "<IPython.core.display.Image object>"
      ]
     },
     "metadata": {},
     "output_type": "display_data",
     "jetTransient": {
      "display_id": null
     }
    }
   ],
   "execution_count": 7
  },
  {
   "metadata": {
    "ExecuteTime": {
     "end_time": "2025-10-30T18:02:33.590665Z",
     "start_time": "2025-10-30T18:02:33.584860Z"
    }
   },
   "cell_type": "code",
   "source": "graph.invoke({\"amount_usd\": 100})",
   "id": "4f9452a05fa553e9",
   "outputs": [
    {
     "data": {
      "text/plain": [
       "{'amount_usd': 100, 'total_usd': 108.0, 'total_inr': 9180.0}"
      ]
     },
     "execution_count": 8,
     "metadata": {},
     "output_type": "execute_result"
    }
   ],
   "execution_count": 8
  },
  {
   "metadata": {},
   "cell_type": "code",
   "outputs": [],
   "execution_count": null,
   "source": "",
   "id": "a59b55c396ea9412"
  }
 ],
 "metadata": {
  "kernelspec": {
   "display_name": "Python 3",
   "language": "python",
   "name": "python3"
  },
  "language_info": {
   "codemirror_mode": {
    "name": "ipython",
    "version": 2
   },
   "file_extension": ".py",
   "mimetype": "text/x-python",
   "name": "python",
   "nbconvert_exporter": "python",
   "pygments_lexer": "ipython2",
   "version": "2.7.6"
  }
 },
 "nbformat": 4,
 "nbformat_minor": 5
}
